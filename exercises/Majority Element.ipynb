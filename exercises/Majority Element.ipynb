{
 "cells": [
  {
   "cell_type": "markdown",
   "metadata": {},
   "source": [
    "# Majority Element\n",
    "\n",
    "Design an efficient algorithm determine whether an array has a majority element, and, if so, to find that element. An array has a majority element if more than half of its entries are the same.\n",
    "\n",
    "For example, assuming classes `Turtle` and `Elephant` are defined:\n",
    "\n",
    "    [Turtle(), Elephant(), 42]\n",
    "\n",
    "does not have a majority element, but\n",
    "\n",
    "    the_turtle = Turtle()\n",
    "    [the_turtle, the_turtle, \"42\"]\n",
    "\n",
    "has a majority element, `the_turtle`.\n",
    "\n",
    "The elements of the array are not necessarily from some ordered domain like integers, and so there can be no comparisons of the form \"is `A[i] > A[j]`\". However you can answer questions of the form: \"is `A[i] == A[j]`?\" in constant time in Python.\n",
    "\n"
   ]
  },
  {
   "cell_type": "code",
   "execution_count": 1,
   "metadata": {},
   "outputs": [],
   "source": [
    "from collections import Counter\n",
    "\n",
    "def majority_element(arr):\n",
    "    if len(arr) == 0 :\n",
    "        return None \n",
    "\n",
    "    c = Counter(arr).most_common()\n",
    "\n",
    "    max_sequence = c[0]\n",
    "\n",
    "    if max_sequence[1] >= len(arr) / 2 :\n",
    "        return max_sequence[0]\n",
    "    return None\n"
   ]
  },
  {
   "cell_type": "markdown",
   "metadata": {},
   "source": [
    "# Test cases"
   ]
  },
  {
   "cell_type": "code",
   "execution_count": 5,
   "metadata": {},
   "outputs": [],
   "source": [
    "import random"
   ]
  },
  {
   "cell_type": "code",
   "execution_count": 6,
   "metadata": {},
   "outputs": [],
   "source": [
    "assert(majority_element([42, 42, 42]) == 42)"
   ]
  },
  {
   "cell_type": "code",
   "execution_count": 7,
   "metadata": {},
   "outputs": [],
   "source": [
    "assert(majority_element([1, 2, 3]) is None)"
   ]
  },
  {
   "cell_type": "code",
   "execution_count": 8,
   "metadata": {},
   "outputs": [],
   "source": [
    "class Bear():\n",
    "    pass\n",
    "\n",
    "class Cat():\n",
    "    pass\n",
    "\n",
    "the_bear = Bear()\n",
    "test_list = random.choices([the_bear, Cat()], [10, 1], k=10000)\n",
    "\n",
    "assert(majority_element(test_list) == the_bear)"
   ]
  },
  {
   "cell_type": "code",
   "execution_count": 9,
   "metadata": {},
   "outputs": [],
   "source": [
    "test_list = [random.random() for i in range(int(1e6) - 1)]\n",
    "\n",
    "assert(majority_element(test_list) is None)"
   ]
  },
  {
   "cell_type": "code",
   "execution_count": 10,
   "metadata": {},
   "outputs": [],
   "source": [
    "test_list += [0.5 for i in range(int(1e6))]\n",
    "\n",
    "assert(majority_element(test_list) == 0.5)"
   ]
  }
 ],
 "metadata": {
  "kernelspec": {
   "display_name": "Python 3.9.10 64-bit",
   "language": "python",
   "name": "python3"
  },
  "language_info": {
   "codemirror_mode": {
    "name": "ipython",
    "version": 3
   },
   "file_extension": ".py",
   "mimetype": "text/x-python",
   "name": "python",
   "nbconvert_exporter": "python",
   "pygments_lexer": "ipython3",
   "version": "3.10.8"
  },
  "vscode": {
   "interpreter": {
    "hash": "b0fa6594d8f4cbf19f97940f81e996739fb7646882a419484c72d19e05852a7e"
   }
  }
 },
 "nbformat": 4,
 "nbformat_minor": 2
}
