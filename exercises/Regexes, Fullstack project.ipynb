{
 "cells": [
  {
   "cell_type": "markdown",
   "metadata": {},
   "source": [
    "# Regular expressions\n",
    "\n",
    "Give a regular expression that detects hexadecimal numbers in a text, for example `0x0f4`, `0acdadecf822eeff32aca5830e438cb54aa722e3`, `8BADF00D` should be detected. Include a few test cases."
   ]
  },
  {
   "cell_type": "code",
   "execution_count": 16,
   "metadata": {},
   "outputs": [],
   "source": [
    "import re\n",
    "\n",
    "def is_hex(word):\n",
    "    match = re.match(\"^([0][xX])?[0-9,a-f,A-F]+$\", word)\n",
    "    return match != None"
   ]
  },
  {
   "cell_type": "code",
   "execution_count": 22,
   "metadata": {},
   "outputs": [],
   "source": [
    "test_cases = {\n",
    "    \"0x0f4\": True,\n",
    "    \"0acdadecf822eeff32aca5830e438cb54aa722e3\": True,\n",
    "    \"8BADF00D\": True,\n",
    "    \"123x4\": False,\n",
    "    \"argentina\": False,\n",
    "    \"campeones\": False,\n",
    "    \"del\": False,\n",
    "    \"mundo\": False,\n",
    "    \"3\": True,\n",
    "}\n",
    "\n",
    "for case, result in test_cases.items():\n",
    "    assert(result == is_hex(case))"
   ]
  },
  {
   "cell_type": "markdown",
   "metadata": {},
   "source": [
    "# Fullstack Project\n",
    "\n",
    "In this question, we are going to test your ability to create a really small application (front and back). Each will have their own folders inside the exercises folder that you've downloaded from us.\n",
    "\n",
    "For the front, please use React (https://reactjs.org/). You'll need a Node >= 8.10 and npm >= 5.6. You can bootstrap your own project running this command.\n",
    "\n",
    "```\n",
    "\n",
    "npx create-react-app my-app\n",
    "\n",
    "cd my-app\n",
    "\n",
    "npm start\n",
    "\n",
    "```\n",
    "\n",
    "For the back, please use flask (https://flask.palletsprojects.com/en/2.0.x/) \n",
    "\n",
    "\n",
    "Your back application will return a static list of countries and their codes. They will preferably be persisted on a JSON file on disk. You can use this file for the list of European countries: https://gist.github.com/jim-at-jibba/25fbdb561e927eeb9376a1f49db3907e\n",
    "\n",
    "\n",
    "Your front application will make a query to the back when it loads and render the country codes in a typical HTML list. When clicking on a country code, it should replace its code to the full country name.\n",
    "\n",
    "\n",
    "We expect you to follow all the best practices possible for a new project."
   ]
  },
  {
   "cell_type": "code",
   "execution_count": null,
   "metadata": {},
   "outputs": [],
   "source": [
    "! pip install flask\n",
    "! pip install -U flask-cors"
   ]
  },
  {
   "cell_type": "code",
   "execution_count": null,
   "metadata": {},
   "outputs": [],
   "source": [
    "! export FLASK_APP=main\n",
    "! flask run \n",
    "! npm start"
   ]
  }
 ],
 "metadata": {
  "kernelspec": {
   "display_name": "Python 3.11.0 64-bit",
   "language": "python",
   "name": "python3"
  },
  "language_info": {
   "codemirror_mode": {
    "name": "ipython",
    "version": 3
   },
   "file_extension": ".py",
   "mimetype": "text/x-python",
   "name": "python",
   "nbconvert_exporter": "python",
   "pygments_lexer": "ipython3",
   "version": "3.11.0"
  },
  "vscode": {
   "interpreter": {
    "hash": "5c7b89af1651d0b8571dde13640ecdccf7d5a6204171d6ab33e7c296e100e08a"
   }
  }
 },
 "nbformat": 4,
 "nbformat_minor": 2
}
