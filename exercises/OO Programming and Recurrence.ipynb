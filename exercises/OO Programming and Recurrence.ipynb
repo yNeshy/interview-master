{
 "cells": [
  {
   "cell_type": "markdown",
   "metadata": {},
   "source": [
    "# Class variables and instance variables\n",
    "\n",
    "Provide an example of class variables vs instance variables. Use a realistic use case."
   ]
  },
  {
   "cell_type": "code",
   "execution_count": null,
   "metadata": {},
   "outputs": [],
   "source": [
    "class Team:\n",
    "    federation = \"Fifa\"\n",
    "    def __init__(self, name, players):\n",
    "        self.name = name\n",
    "        self.players = players\n",
    "\n",
    "\n",
    "morocco = Team(\"morocco\", [\"ziyech\", \"hakimi\"])\n",
    "croatia = Team(\"croatia\", [\"modric\", \"schscyz\"])\n",
    "\n",
    "print(\"class variable: \", morocco.federation, \" \", croatia.federation)\n",
    "print(\"instance variable: \", morocco.name, \" \", croatia.name)"
   ]
  },
  {
   "cell_type": "markdown",
   "metadata": {},
   "source": [
    "# Class design\n",
    "\n",
    "Write two classes, one to represent a rectangle, the second a square. They must have an appropriate constructor (width, height for the rectangle, width for the square) and area and perimeter calculation methods. Code duplication must be avoided as much as possible. Please explain your implementation choices."
   ]
  },
  {
   "cell_type": "code",
   "execution_count": null,
   "metadata": {},
   "outputs": [],
   "source": [
    "class rectangle:\n",
    "    number_of_sides = 4\n",
    "\n",
    "    def __init__(self, width, height):\n",
    "        self.width = width\n",
    "        self.height = height\n",
    "\n",
    "    def area(self):\n",
    "        return self.width * self.height\n",
    "\n",
    "    def perimieter(self):\n",
    "        return 2 * (self.width + self.height)\n",
    "\n",
    "class square(rectangle):\n",
    "    def __init__(self, side):\n",
    "        self.side = side\n",
    "    \n",
    "    def area(self):\n",
    "        return self.side * self.side\n",
    "\n",
    "    def perimeter(self):\n",
    "        return 4 * self.side\n"
   ]
  },
  {
   "attachments": {},
   "cell_type": "markdown",
   "metadata": {},
   "source": [
    "A square is a special rectangle."
   ]
  },
  {
   "cell_type": "markdown",
   "metadata": {},
   "source": [
    "# Recursivity (or not)\n",
    "\n",
    "Here is the pseudo code of a function that is defined recursively:\n",
    "\n",
    "$$\n",
    "\\begin{align}\n",
    "f(0) & = 1 \\\\\n",
    "f(1) & = 3 \\\\\n",
    "f(n) & = 3 * f(n - 1) - f(n - 2) \\\\\n",
    "\\end{align}\n",
    "$$\n",
    "\n",
    "Provide two implementations for $f$. One recursive and one not. \n"
   ]
  },
  {
   "cell_type": "code",
   "execution_count": 16,
   "metadata": {},
   "outputs": [],
   "source": [
    "counted_f_values = [1, 3]\n",
    "\n",
    "def f_recursive(n):\n",
    "    if n < len(counted_f_values):\n",
    "        return counted_f_values[n]\n",
    "    else :\n",
    "        # a value can only be appended once it is counted.\n",
    "        # therefore it is impossible for f[n] to be appended before f[n-1]\n",
    "\n",
    "        counted_f_values.append(3 * f_recursive(n-1) - f_recursive(n-2))\n",
    "        \n",
    "        return counted_f_values[n]\n"
   ]
  },
  {
   "cell_type": "code",
   "execution_count": 15,
   "metadata": {},
   "outputs": [],
   "source": [
    "counted_f_values = [1, 3]\n",
    "\n",
    "def f_loop(n):\n",
    "    if n < len(counted_f_values):\n",
    "        return counted_f_values[n]\n",
    "    else :\n",
    "        for i in range(len(counted_f_values), n+1):\n",
    "            counted_f_values.append(3 * counted_f_values[i-1] - counted_f_values[i - 2])\n",
    "        return counted_f_values[n]\n"
   ]
  },
  {
   "attachments": {},
   "cell_type": "markdown",
   "metadata": {},
   "source": [
    "### Test"
   ]
  },
  {
   "cell_type": "code",
   "execution_count": 20,
   "metadata": {},
   "outputs": [],
   "source": [
    "import random \n",
    "\n",
    "for _ in range(0, 10):\n",
    "    n = random.randint(0, 10^6)\n",
    "    assert(f_loop(n) == f_recursive(n))\n",
    "    "
   ]
  },
  {
   "cell_type": "markdown",
   "metadata": {},
   "source": [
    "Please provide a rough estimate of the complexity of the algorithm you've implemented (time and space) and why you believe it to be the most efficient solution."
   ]
  },
  {
   "attachments": {},
   "cell_type": "markdown",
   "metadata": {},
   "source": [
    "Both are of linear complexity both in time and space.\n",
    "           space  |  time\n",
    "loop      | O(n)  |  O(n)\n",
    "recursive | O(n)  |  O(n)\n",
    "\n",
    "I believe both to be the most efficient solutions because each value is only calculated once. The rest is just read and write from an array, which is essentially O(1)."
   ]
  },
  {
   "cell_type": "markdown",
   "metadata": {},
   "source": []
  }
 ],
 "metadata": {
  "kernelspec": {
   "display_name": "Python 3.11.0 64-bit",
   "language": "python",
   "name": "python3"
  },
  "language_info": {
   "codemirror_mode": {
    "name": "ipython",
    "version": 3
   },
   "file_extension": ".py",
   "mimetype": "text/x-python",
   "name": "python",
   "nbconvert_exporter": "python",
   "pygments_lexer": "ipython3",
   "version": "3.11.0"
  },
  "vscode": {
   "interpreter": {
    "hash": "5c7b89af1651d0b8571dde13640ecdccf7d5a6204171d6ab33e7c296e100e08a"
   }
  }
 },
 "nbformat": 4,
 "nbformat_minor": 2
}
