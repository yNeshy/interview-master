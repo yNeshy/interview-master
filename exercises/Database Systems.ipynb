{
 "cells": [
  {
   "cell_type": "markdown",
   "metadata": {},
   "source": [
    "# Postgresql\n",
    "\n",
    "Write a `CREATE TABLE` query for a table storing information on `users`. It will store `id`, `firstname`, `lastname`, `gender`, `email`, `created_at`. We expect you to write the best contraints for each columns too."
   ]
  },
  {
   "cell_type": "markdown",
   "metadata": {},
   "source": [
    "CREATE TYPE valid_gender AS ENUM ('male', 'female', 'unspecified');\n",
    "\n",
    "CREATE TABLE IF NOT EXISTS users (\n",
    "    id UUID PRIMARY KEY,\n",
    "    firstname VARCHAR(255) NOT NULL,\n",
    "    lastname VARCHAR(255) NOT NULL,\n",
    "    gender VALID_GENDER default 'unspecified',\n",
    "    email TEXT,\n",
    "    created_at timestamp default CURRENT_DATE\n",
    ");"
   ]
  },
  {
   "cell_type": "markdown",
   "metadata": {},
   "source": [
    "Write a query on the previous table that lists the 10 most recently added `users`."
   ]
  },
  {
   "cell_type": "markdown",
   "metadata": {},
   "source": [
    "SELECT id, firstname, lastname, gender, email FROM users ORDER BY created_at DESC limit 10;"
   ]
  },
  {
   "cell_type": "markdown",
   "metadata": {},
   "source": [
    "Write a query listing `emails` used by more than one `user`."
   ]
  },
  {
   "cell_type": "markdown",
   "metadata": {},
   "source": [
    "SELECT email from (\n",
    "    SELECT email, COUNT(*) as c FROM users GROUP BY email\n",
    ") as email_counts where c > 1 ;"
   ]
  },
  {
   "cell_type": "markdown",
   "metadata": {},
   "source": [
    "Similarly, use a `JOIN` instead of a `GROUP BY` operation in order to return the rows that have a duplicated email."
   ]
  },
  {
   "cell_type": "markdown",
   "metadata": {},
   "source": [
    "SELECT email FROM ( \n",
    "    SELECT u2.email, COUNT(DISTINCT u2.id) AS c FROM users AS u1 LEFT JOIN users AS u2 \n",
    "        ON u1.email = u2.email GROUP BY u2.email \n",
    "    ) as emails_per_user \n",
    "    where c > 1 ;"
   ]
  },
  {
   "cell_type": "markdown",
   "metadata": {},
   "source": [
    "Count the number of people for each gender using window functions."
   ]
  },
  {
   "cell_type": "markdown",
   "metadata": {},
   "source": [
    "SELECT gender, COUNT(*) FROM users GROUP BY gender ;"
   ]
  },
  {
   "cell_type": "markdown",
   "metadata": {},
   "source": [
    "# MongoDB\n",
    "\n",
    "Write a mongo shell command to insert a `tiger` document, with a few relevant attributes, into an `animals` collection (for a Zoo management application). Include a `feeding_schedule` attribute."
   ]
  },
  {
   "cell_type": "markdown",
   "metadata": {},
   "source": [
    "db.tiger.insertOne(\n",
    "   {\n",
    "    size: 34,\n",
    "    jaw: 3,\n",
    "    weight: 210,\n",
    "    date_of_birth: 134164254233,\n",
    "    name: \"jambo\",\n",
    "    feeding_schedule: 3600,\n",
    "    last_time_fed: 134164254233\n",
    "   }\n",
    ")"
   ]
  },
  {
   "cell_type": "markdown",
   "metadata": {},
   "source": [
    "Write a mongo shell command to update the `tiger`'s name."
   ]
  },
  {
   "cell_type": "markdown",
   "metadata": {},
   "source": [
    "db.tiger.updateOne(\n",
    "    {_id: ObjectId(\"639b209cc6823ee9a74f8df3\")},\n",
    "    {\n",
    "        $set: {name: \"rodrigo\"}\n",
    "    }\n",
    ")"
   ]
  },
  {
   "cell_type": "markdown",
   "metadata": {},
   "source": [
    "Write a mongo shell command to index the `animals` collection based on their `feeding_schedule`."
   ]
  },
  {
   "cell_type": "markdown",
   "metadata": {},
   "source": [
    "db.tiger.createIndex({feeding_schedule: -1})"
   ]
  },
  {
   "cell_type": "markdown",
   "metadata": {},
   "source": [
    "Retrieve all `animals` that need to eat within the next `hour`, ordered by their next feeding time."
   ]
  },
  {
   "cell_type": "code",
   "execution_count": null,
   "metadata": {},
   "outputs": [],
   "source": [
    "db.tiger.find( { $where: function() { return this.last_time_fed < 134164255200 } } );\n",
    "// 134164255200 being our hour ago\n",
    "// since we have an index on feeding_schedule, we do not need to sort."
   ]
  },
  {
   "cell_type": "markdown",
   "metadata": {},
   "source": [
    "# Other\n",
    "\n",
    "What are the main differences between Redis, MySQL, Postgresql, Redshift, Mongo? Why might you use one over the other?"
   ]
  },
  {
   "cell_type": "markdown",
   "metadata": {},
   "source": [
    "Redis is an in-memory database. The data in it is not persistant by design, unless saved in a file.\n",
    "MySQL and Postgresql are relational database management systems. Basically both save data in structure ways in the file system, use SQL to access the data.\n",
    "Except postgresql has features that mysql does not have, like table inheritance.\n",
    "Redshift is a data warehouse provided and hosted by amazon. A data warehouse is not meant to be used as a database, it is in a way just a big repository in which random structured or unstructured data can be dumped, to be processed or just saved.\n",
    "Mongo is a document-oriented database manager.\n",
    "\n",
    "I would use redis for temporary codes that I want to save or for cache because since it does use the file system, read and write and much faster.\n",
    "As for a relation database manager, Mysql or Postgresql comes down to personal preference.\n",
    "If I need a data wharehouse, to store random data from my application, I would go with RedShift. Amazon has done a great job making its wharehouses easy to interact with in a plug and play fashion, with other amazon services such as lambda functions.\n",
    "\n",
    "Main use case in using mongodb for me instead of a structured db would be if I had no idea before hand how the data should be structured. Not having a well defined structure is beneficial to growth and would help the tech follow the evolution of the business without having huge refactoring to do."
   ]
  }
 ],
 "metadata": {
  "kernelspec": {
   "display_name": "Python 3.11.0 64-bit",
   "language": "python",
   "name": "python3"
  },
  "language_info": {
   "codemirror_mode": {
    "name": "ipython",
    "version": 3
   },
   "file_extension": ".py",
   "mimetype": "text/x-python",
   "name": "python",
   "nbconvert_exporter": "python",
   "pygments_lexer": "ipython3",
   "version": "3.11.0 (main, Oct 25 2022, 13:57:33) [Clang 14.0.0 (clang-1400.0.29.202)]"
  },
  "vscode": {
   "interpreter": {
    "hash": "5c7b89af1651d0b8571dde13640ecdccf7d5a6204171d6ab33e7c296e100e08a"
   }
  }
 },
 "nbformat": 4,
 "nbformat_minor": 2
}
