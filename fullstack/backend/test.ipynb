{
 "cells": [
  {
   "cell_type": "code",
   "execution_count": 4,
   "metadata": {},
   "outputs": [
    {
     "data": {
      "text/plain": [
       "[{'name': 'Andorra', 'code': 'AD'},\n",
       " {'name': 'Albania', 'code': 'AL'},\n",
       " {'name': 'Austria', 'code': 'AT'},\n",
       " {'name': 'Åland Islands', 'code': 'AX'},\n",
       " {'name': 'Bosnia and Herzegovina', 'code': 'BA'},\n",
       " {'name': 'Belgium', 'code': 'BE'},\n",
       " {'name': 'Bulgaria', 'code': 'BG'},\n",
       " {'name': 'Belarus', 'code': 'BY'},\n",
       " {'name': 'Switzerland', 'code': 'CH'},\n",
       " {'name': 'Cyprus', 'code': 'CY'}]"
      ]
     },
     "execution_count": 4,
     "metadata": {},
     "output_type": "execute_result"
    }
   ],
   "source": [
    "import json\n",
    "\n",
    "EUROPE_COUNTRY_CODES_FILE = \"database/europe.json\"\n",
    "\n",
    "def read_europe():\n",
    "    f = open(EUROPE_COUNTRY_CODES_FILE)\n",
    "\n",
    "    data = json.load(f)\n",
    "\n",
    "    f.close()\n",
    "\n",
    "    return data"
   ]
  },
  {
   "cell_type": "code",
   "execution_count": null,
   "metadata": {},
   "outputs": [],
   "source": [
    "\n",
    "def fetch_europe_country_codes():\n",
    "    europe = read_europe()\n",
    "    return europe\n"
   ]
  }
 ],
 "metadata": {
  "kernelspec": {
   "display_name": "env",
   "language": "python",
   "name": "python3"
  },
  "language_info": {
   "codemirror_mode": {
    "name": "ipython",
    "version": 3
   },
   "file_extension": ".py",
   "mimetype": "text/x-python",
   "name": "python",
   "nbconvert_exporter": "python",
   "pygments_lexer": "ipython3",
   "version": "3.10.8"
  },
  "orig_nbformat": 4,
  "vscode": {
   "interpreter": {
    "hash": "fe69a8066d19b29226440d4261cacfa8423b33955e3bf6a2ce26f3598faefcfd"
   }
  }
 },
 "nbformat": 4,
 "nbformat_minor": 2
}
